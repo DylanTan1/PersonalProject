{
 "cells": [
  {
   "cell_type": "markdown",
   "metadata": {},
   "source": [
    "Import dependencies"
   ]
  },
  {
   "cell_type": "code",
   "execution_count": 8,
   "metadata": {},
   "outputs": [],
   "source": [
    "import numpy as np\n",
    "from PIL import Image, ImageSequence"
   ]
  },
  {
   "cell_type": "markdown",
   "metadata": {},
   "source": [
    "Video loader"
   ]
  },
  {
   "cell_type": "code",
   "execution_count": 2,
   "metadata": {},
   "outputs": [],
   "source": [
    "def video_loader(path, modality = \"RGB\"):\n",
    "    frames = []\n",
    "    with open(path, 'rb') as f:\n",
    "        with Image.open(f) as video:\n",
    "            index = 1\n",
    "            for frame in ImageSequence.Iterator(video):\n",
    "                frames.append(frame.convert(modality))\n",
    "                index +=1\n",
    "    return frames"
   ]
  },
  {
   "cell_type": "code",
   "execution_count": null,
   "metadata": {},
   "outputs": [],
   "source": [
    "frames = video_loader(\"../videos/original.gif\")"
   ]
  },
  {
   "cell_type": "markdown",
   "metadata": {},
   "source": [
    "Horizontal flip"
   ]
  },
  {
   "cell_type": "code",
   "execution_count": 9,
   "metadata": {},
   "outputs": [],
   "source": [
    "def horizontal_flip(frames):\n",
    "    if isinstance(frames[0],np.ndarray):\n",
    "        return [np.fliplr(img) for img in frames]\n",
    "    elif isinstance(frames[0], Image.Image):\n",
    "        return [img.transpose(Image.FLIP_LEFT_RIGHT) for img in frames]\n",
    "    else:\n",
    "        raise TypeError('Expected numpy.ndarray or PIL.Image' +\n",
    "                        ' but got list of {0}'.format(type(frames[0])))"
   ]
  },
  {
   "cell_type": "code",
   "execution_count": 10,
   "metadata": {},
   "outputs": [],
   "source": [
    "frames_aug = horizontal_flip(frames)"
   ]
  }
 ],
 "metadata": {
  "kernelspec": {
   "display_name": "venv",
   "language": "python",
   "name": "python3"
  },
  "language_info": {
   "codemirror_mode": {
    "name": "ipython",
    "version": 3
   },
   "file_extension": ".py",
   "mimetype": "text/x-python",
   "name": "python",
   "nbconvert_exporter": "python",
   "pygments_lexer": "ipython3",
   "version": "3.10.0"
  }
 },
 "nbformat": 4,
 "nbformat_minor": 2
}
